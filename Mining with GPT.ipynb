{
 "cells": [
  {
   "cell_type": "code",
   "execution_count": null,
   "metadata": {
    "cell_id": "1a21ce1fa8f94fd7886d93a95f7fb2e2",
    "deepnote_cell_type": "code",
    "execution_context_id": "2c699a14-2dd1-4715-869b-f16a5e4e9368",
    "execution_millis": 10583,
    "execution_start": 1744303253393,
    "source_hash": "c9c51627"
   },
   "outputs": [],
   "source": [
    "!pip install openai\n",
    "!pip install pubchempy\n",
    "!pip install biopython"
   ]
  },
  {
   "cell_type": "code",
   "execution_count": null,
   "metadata": {
    "cell_id": "c2fb4e929db8431299124782d869aea4",
    "deepnote_cell_type": "code",
    "execution_context_id": "2c699a14-2dd1-4715-869b-f16a5e4e9368",
    "execution_millis": 722,
    "execution_start": 1744303266568,
    "source_hash": "9eb797ef"
   },
   "outputs": [],
   "source": [
    "import os\n",
    "from openai import OpenAI\n",
    "import json\n",
    "import pandas as pd\n",
    "import pubchempy as pcp\n",
    "from Bio import Entrez"
   ]
  },
  {
   "cell_type": "markdown",
   "metadata": {
    "cell_id": "304b2c16863a40c5be96f59465a709b3",
    "deepnote_cell_type": "text-cell-h2",
    "formattedRanges": []
   },
   "source": [
    "## Add PMCid to BRENDA database"
   ]
  },
  {
   "cell_type": "code",
   "execution_count": null,
   "metadata": {
    "cell_id": "8645f61290aa4eea8d9d552c33d12f6b",
    "deepnote_cell_type": "code",
    "execution_context_id": "601bd876-2179-40aa-acf5-2ef16ba25329",
    "execution_millis": 26,
    "execution_start": 1742538754010,
    "source_hash": "ccdd6986"
   },
   "outputs": [],
   "source": [
    "brenda_reactions = pd.read_csv(r\"brenda_reactions.csv\")\n",
    "brenda_reactions = brenda_reactions.dropna()\n",
    "brenda_reactions[\"pubmedId\"] = brenda_reactions[\"pubmedId\"].astype(int)\n",
    "\n",
    "pubmedIds = [24509923, 19022233, 16000771, 18456852, 23354700, 19139244,\n",
    "       20377222, 17435004, 29697194, 25666131, 28194879, 28004884,\n",
    "       16391048, 25314615, 23525111, 18065623, 21637665, 16999687,\n",
    "       21734824, 15152088, 19329659, 24015914]\n",
    "\n",
    "subset_brenda = brenda_reactions[brenda_reactions['pubmedId'].isin(pubmedIds)]\n",
    "subset_brenda"
   ]
  },
  {
   "cell_type": "code",
   "execution_count": null,
   "metadata": {
    "cell_id": "cac2da8cfce94ba5aae550fc923d7136",
    "deepnote_cell_type": "code",
    "deepnote_table_loading": false,
    "deepnote_table_state": {
     "cellFormattingRules": [],
     "columnDisplayNames": [],
     "columnOrder": [
      "Unnamed: 0",
      "literatureSubstrates",
      "ecNumber",
      "substrates",
      "products",
      "pubmedId",
      "abstract",
      "pmcId"
     ],
     "conditionalFilters": [],
     "filters": [],
     "hiddenColumnIds": [],
     "pageIndex": 0,
     "pageSize": 10,
     "sortBy": [
      {
       "id": "abstract",
       "type": "asc"
      }
     ],
     "wrappedTextColumnIds": []
    },
    "execution_context_id": "601bd876-2179-40aa-acf5-2ef16ba25329",
    "execution_millis": 35599,
    "execution_start": 1742538759702,
    "source_hash": "93728024"
   },
   "outputs": [],
   "source": [
    "pubmedId_pmcId_map = {}\n",
    "\n",
    "Entrez.email = \"\" # from account\n",
    "Entrez.api_key = \"\"  # from account\n",
    "\n",
    "def get_pmc_id_from_pubmed_id(pubmed_id):\n",
    "    \"\"\"Retrieve PMC ID from PubMed ID using NCBI's E-Link utility.\"\"\"\n",
    "    pubmed_id = str(pubmed_id)\n",
    "    record = Entrez.read(Entrez.elink(dbfrom=\"pubmed\", id=pubmed_id, db=\"pmc\", LinkName=\"pubmed_pmc\"))\n",
    "    pmc_id = None\n",
    "    try:\n",
    "        linkset = record[0]['LinkSetDb'][0]['Link']\n",
    "        pmc_id = linkset[0]['Id']\n",
    "        return pmc_id\n",
    "    except (IndexError, KeyError):\n",
    "        print(\"No PMC ID found for PubMed ID:\", pubmed_id)\n",
    "        return pmc_id\n",
    "\n",
    "def map_pubmedId_pmcId(pubmedId):\n",
    "    return pubmedId_pmcId_map.get(pubmedId)\n",
    "\n",
    "for pubmedId in pubmedIds:\n",
    "    pubmedId_pmcId_map[pubmedId] = get_pmc_id_from_pubmed_id(pubmedId)\n",
    "\n",
    "subset_brenda['pmcId'] = subset_brenda['pubmedId'].apply(map_pubmedId_pmcId)\n",
    "subset_brenda = subset_brenda.dropna()\n",
    "subset_brenda['pmcId'] = subset_brenda['pmcId'].astype(int)\n",
    "subset_brenda['pubmedId'] = subset_brenda['pubmedId'].astype(int)\n",
    "brenda_df = subset_brenda"
   ]
  },
  {
   "cell_type": "markdown",
   "metadata": {
    "cell_id": "104772c021c742589eef1fa7ff55e40a",
    "deepnote_cell_type": "text-cell-h2",
    "formattedRanges": []
   },
   "source": [
    "## GPT Prompting"
   ]
  },
  {
   "cell_type": "code",
   "execution_count": null,
   "metadata": {
    "cell_id": "4d647a0c6c1445d1887047c29a2622c1",
    "deepnote_cell_type": "code",
    "execution_context_id": "601bd876-2179-40aa-acf5-2ef16ba25329",
    "execution_millis": 0,
    "execution_start": 1742540779905,
    "source_hash": "336dff49"
   },
   "outputs": [],
   "source": [
    "os.environ['OPENAI_API_KEY'] = \"\" # from account\n",
    "\n",
    "def get_rxns_from_gpt(passage):\n",
    "\n",
    "  client = OpenAI()\n",
    "  model=\"gpt-4o\"\n",
    "\n",
    "  starting_message = \"\"\"\n",
    "  You are an expert at extracting structured data on enzymatic reactions from scientific literature. \n",
    "  You are also knowledgeable about enzymatic reactions, and are able to extrapolate information where either substrates or products are missing given its corresponding counterpart.\n",
    "  Your task is to identify all enzymatic reactions that has an enzyme associated with each reaction from the given scientific paper and output them in the specified structured format.\n",
    "  \"\"\"\n",
    "\n",
    "  prompt = \"\"\"\n",
    "Extract all enzymatic reactions described in the provided scientific text. Extract information from tables as well, including any substrates, enzymes, or products that are mentioned.\n",
    "\n",
    "For reactions where only the substrate or product is mentioned but not the corresponding pair, infer the missing product or substrate to the best of your ability.\n",
    "\n",
    "For each reaction, include the following details.\n",
    "Substrates: List all substrates involved in the reaction, including any co-factors that play a role in the reaction. If only products are listed without substrates, infer likely substrates based on common enzymatic or biochemical transformations.\n",
    "Products: Identify all products formed, and only include major products. If products are not mentioned, use your knowledge of chemistry and enzymatic reactions to infer potential products. For example, if '2-butanone' and 'NADPH' are listed as substrates, you should infer that 'butan-2-ol' is a product considering typical reduction reactions. Likewise, '2-pentanone' and 'NADPH' is likely to give 'pentan-2-ol' as the product. Provide specific inferred products or substrates in chemical names, instead of generic phrases.\n",
    "Enzymes: Identify any enzymes that catalyze the reaction. If there is no reaction associated with an enzyme, don't report it.\n",
    "Reversibility: If a reaction is reversible and is explicitly stated, include both the forward and reverse reactions separately, clearly indicating the direction of each reaction.\n",
    "Comprehensive Output: Ensure that the output is comprehensive and well-structured, capturing all relevant details of potential chemical and enzymatic transformations described in the literature. Use your knowledge to fill gaps where the reactions are not fully described in the text, inferring based on common enzymatic or biochemical transformations.\n",
    "Format: Output your answer in the JSON format shown below, make sure that the output is in a valid JSON format.\n",
    "{\n",
    "    \"enzyme\": \"(enzyme name)\",\n",
    "    \"reaction\": {\n",
    "        \"substrate\": [\"(substrate 1 name)\"],\n",
    "        \"product\": [\"(product 1 name)\", \"(product 2 name)\"]\n",
    "    }\n",
    "}\n",
    "Make sure both keys and string values are enclosed in double quotes (\"), not single quotes ('), and there should not be trailing commas after the last item in a JSON object or array.\n",
    "The text you are meant to analyze begins here:\n",
    "\"\"\"\n",
    "\n",
    "  response = client.chat.completions.create(\n",
    "    model=model,\n",
    "    messages=[\n",
    "      {\"role\": \"developer\", \"content\": starting_message},\n",
    "      {\"role\": \"user\", \"content\": prompt},\n",
    "      {\"role\": \"user\", \"content\": passage}\n",
    "    ],\n",
    "    temperature=0,\n",
    "    max_tokens=2000\n",
    "  )\n",
    "  \n",
    "  return response"
   ]
  },
  {
   "cell_type": "code",
   "execution_count": null,
   "metadata": {
    "cell_id": "b5d5dcaae35f4dc2b336ea0d3b7c9cce",
    "deepnote_cell_type": "code",
    "execution_context_id": "601bd876-2179-40aa-acf5-2ef16ba25329",
    "execution_millis": 3,
    "execution_start": 1742539805892,
    "source_hash": "35a34ea4"
   },
   "outputs": [],
   "source": [
    "unique_ids = brenda_df['pmcId'].unique()\n",
    "print(len(unique_ids))"
   ]
  },
  {
   "cell_type": "code",
   "execution_count": null,
   "metadata": {
    "cell_id": "8931bd7fd86b4153b8be451ec2cc1544",
    "deepnote_cell_type": "code",
    "deepnote_table_loading": false,
    "deepnote_table_state": {
     "cellFormattingRules": [],
     "columnDisplayNames": [],
     "columnOrder": [
      "enzyme",
      "reaction_substrate",
      "reaction_product",
      "pmcId",
      "pubmedId",
      "paper"
     ],
     "conditionalFilters": [],
     "filters": [],
     "hiddenColumnIds": [],
     "pageIndex": 0,
     "pageSize": 10,
     "sortBy": [],
     "wrappedTextColumnIds": []
    },
    "execution_context_id": "601bd876-2179-40aa-acf5-2ef16ba25329",
    "execution_millis": 441639,
    "execution_start": 1742540793881,
    "source_hash": "aadbc85d"
   },
   "outputs": [],
   "source": [
    "all_reactions = []\n",
    "\n",
    "for i in range(len(unique_ids)):\n",
    "    pubmedId = brenda_df[brenda_df['pmcId'] == unique_ids[i]]['pubmedId'].iloc[0]\n",
    "    pmcId = brenda_df[brenda_df['pmcId'] == unique_ids[i]]['pmcId'].iloc[0]\n",
    "    paper = brenda_df[brenda_df['pmcId'] == unique_ids[i]]['full_paper'].iloc[0]\n",
    "\n",
    "    reactions = get_rxns_from_gpt(paper)\n",
    "    input_string = reactions.choices[0].message.content\n",
    "    lines = input_string.splitlines()\n",
    "\n",
    "    # Remove the Markdown code block syntax if present\n",
    "    if lines[0].startswith(\"```\"):\n",
    "        cleaned_lines = lines[1:-1] \n",
    "    else:\n",
    "        cleaned_lines = lines\n",
    "    \n",
    "    cleaned_lines = lines[1:-1]\n",
    "    json_string = \"\".join(cleaned_lines)\n",
    "    try:\n",
    "        reactions_data = json.loads(json_string)\n",
    "\n",
    "        print(reactions_data)\n",
    "\n",
    "        df_reactions = pd.json_normalize(reactions_data, sep='_')\n",
    "        df_reactions['pmcId'] = pmcId  \n",
    "        df_reactions['pubmedId'] = pubmedId  \n",
    "        df_reactions['paper'] = paper  \n",
    "\n",
    "        all_reactions.append(df_reactions)\n",
    "        print(f\"Completed {i}\")\n",
    "    except:\n",
    "        print(f\"pmcId {unique_ids[i]} json conversion error\")\n",
    "\n",
    "full_reactions_df = pd.concat(all_reactions, ignore_index=True)\n",
    "full_reactions_df.rename(columns={'reaction_substrate': 'substrates', 'reaction_product': 'products'}, inplace=True)\n",
    "full_reactions_df"
   ]
  },
  {
   "cell_type": "code",
   "execution_count": null,
   "metadata": {
    "cell_id": "1adee227ad034fc098bc64a3604c7f25",
    "deepnote_cell_type": "code",
    "execution_context_id": "601bd876-2179-40aa-acf5-2ef16ba25329",
    "execution_millis": 353,
    "execution_start": 1742541286435,
    "source_hash": "b7a26ddc"
   },
   "outputs": [],
   "source": [
    "full_reactions_df.to_csv(\"gpt_extracted.csv\", index=False)"
   ]
  },
  {
   "cell_type": "markdown",
   "metadata": {},
   "source": [
    "## Improving prompts"
   ]
  },
  {
   "cell_type": "code",
   "execution_count": null,
   "metadata": {},
   "outputs": [],
   "source": [
    "client = OpenAI(api_key='')\n",
    "\n",
    "def generate_better_prompt(client, previous_prompt, extracted, ground_truth, paper):\n",
    "\n",
    "    starting_message = \"\"\"\n",
    "    You are an expert in prompt engineering with a GPT4 model. \n",
    "    You will be given a task, a prompt previously used, the input to GPT, GPT's output using that prompt, and what the ideal output should be.\n",
    "    Improve the prompt to work towards the ideal output.\n",
    "    \"\"\"\n",
    "\n",
    "    message = f\"\"\"\n",
    "    The task is to extract all reactions from the scientific literature.\n",
    "    In a previous run with a GPT4 model, I have passed in a prompt to do the task along with a scientific paper, and received output from it. \n",
    "    Produce a better prompt to do the task.\n",
    "    \n",
    "    This is the previous prompt used: {previous_prompt}.\n",
    "    This is the scientific paper used: {paper}.\n",
    "    This is what GPT outputs based on that prompt: {extracted}.\n",
    "    This is the output that you should be aiming for: {ground_truth}.\n",
    "    Build on the previous prompt to improve it, to work towards achieving the ideal output as best as possible.\n",
    "    Only output the new prompt and nothing else.\n",
    "    \"\"\"\n",
    "    \n",
    "    response = client.chat.completions.create(\n",
    "        model=\"gpt-4o-mini-2024-07-18\",\n",
    "        messages=[\n",
    "            {\"role\": \"developer\", \"content\": starting_message},\n",
    "            {\"role\": \"user\", \"content\": message}\n",
    "        ],\n",
    "        temperature=0,\n",
    "        max_tokens=2000\n",
    "    )\n",
    "\n",
    "    return response\n",
    "\n",
    "previous_prompt = \"\"\n",
    "extracted = []\n",
    "ground_truth = []\n",
    "paper = \"\"\n",
    "response = generate_better_prompt(client, previous_prompt, extracted, ground_truth, paper)\n",
    "output = response.choices[0].message.content"
   ]
  },
  {
   "cell_type": "code",
   "execution_count": null,
   "metadata": {},
   "outputs": [],
   "source": []
  },
  {
   "cell_type": "markdown",
   "metadata": {
    "created_in_deepnote_cell": true,
    "deepnote_cell_type": "markdown"
   },
   "source": [
    "<a style='text-decoration:none;line-height:16px;display:flex;color:#5B5B62;padding:10px;justify-content:end;' href='https://deepnote.com?utm_source=created-in-deepnote-cell&projectId=2570873b-d089-4ed7-b836-6c2df496af15' target=\"_blank\">\n",
    "<img alt='Created in deepnote.com' style='display:inline;max-height:16px;margin:0px;margin-right:7.5px;' src='data:image/svg+xml;base64,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' > </img>\n",
    "Created in <span style='font-weight:600;margin-left:4px;'>Deepnote</span></a>"
   ]
  }
 ],
 "metadata": {
  "deepnote_notebook_id": "68a88f7858f8460d8aacde629871e90e",
  "deepnote_persisted_session": {
   "createdAt": "2025-03-21T07:56:18.092Z"
  },
  "kernelspec": {
   "display_name": "chermit",
   "language": "python",
   "name": "python3"
  },
  "language_info": {
   "codemirror_mode": {
    "name": "ipython",
    "version": 3
   },
   "file_extension": ".py",
   "mimetype": "text/x-python",
   "name": "python",
   "nbconvert_exporter": "python",
   "pygments_lexer": "ipython3",
   "version": "3.9.22"
  }
 },
 "nbformat": 4,
 "nbformat_minor": 0
}
